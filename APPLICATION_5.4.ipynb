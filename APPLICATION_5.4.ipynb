{
 "cells": [
  {
   "cell_type": "markdown",
   "metadata": {},
   "source": [
    "# Libraries, data..."
   ]
  },
  {
   "cell_type": "code",
   "execution_count": 1,
   "metadata": {
    "tags": []
   },
   "outputs": [],
   "source": [
    "import numpy as np\n",
    "import pandas as pd\n",
    "import statsmodels.api as sm\n",
    "from sklearn import preprocessing\n",
    "from matplotlib import pyplot as plt\n",
    "from statsmodels.multivariate.pca import PCA as PCA\n",
    "import seaborn as sns\n",
    "import warnings\n",
    "warnings.filterwarnings(\"ignore\")\n",
    "from scipy.cluster.hierarchy import dendrogram, linkage, fcluster\n",
    "from scipy.spatial.distance import pdist, squareform\n",
    "from sklearn.metrics import calinski_harabasz_score as score_ch\n",
    "from sklearn.metrics import davies_bouldin_score as score_db\n",
    "from sklearn.metrics import silhouette_score as score_sc\n",
    "from GapStat import gap_stat\n",
    "from statsmodels.tsa.stattools import adfuller"
   ]
  },
  {
   "cell_type": "markdown",
   "metadata": {
    "tags": []
   },
   "source": [
    "Import data"
   ]
  },
  {
   "cell_type": "code",
   "execution_count": 25,
   "metadata": {
    "tags": []
   },
   "outputs": [],
   "source": [
    "for i in range(10):\n",
    "    if i==0:\n",
    "        ALL_STOCKS=pd.read_excel('SP500_STOCKS_DIV_REINVESTED.xlsx', i+2)\n",
    "        NAMES=list(ALL_STOCKS)\n",
    "        ALL_STOCKS=np.array(ALL_STOCKS)\n",
    "        SECTOR_ID=np.zeros((ALL_STOCKS.shape[1]))\n",
    "    else:\n",
    "        load=pd.read_excel('SP500_STOCKS_DIV_REINVESTED.xlsx', i+2)\n",
    "        NAMES=NAMES+list(load)\n",
    "        ALL_STOCKS=np.append(ALL_STOCKS,np.array(load),axis=1)\n",
    "        SECTOR_ID=np.append(SECTOR_ID,np.zeros((np.array(load).shape[1]))+i)\n",
    "SP500=np.array(pd.read_excel('SP500_STOCKS_DIV_REINVESTED.xlsx', 'MarketIndex', usecols='B'))\n",
    "SECTOR_LABELS=['Communication services', 'Consumer Discretionary', 'Consumer Staples', 'Energy', 'Financials', 'Healthcare', 'Industrials','Information Technology', 'Materials', 'Utilities' ]"
   ]
  },
  {
   "cell_type": "code",
   "execution_count": 22,
   "metadata": {},
   "outputs": [],
   "source": [
    "df = pd.DataFrame(ALL_STOCKS)"
   ]
  },
  {
   "cell_type": "code",
   "execution_count": 23,
   "metadata": {},
   "outputs": [
    {
     "data": {
      "text/html": [
       "<div>\n",
       "<style scoped>\n",
       "    .dataframe tbody tr th:only-of-type {\n",
       "        vertical-align: middle;\n",
       "    }\n",
       "\n",
       "    .dataframe tbody tr th {\n",
       "        vertical-align: top;\n",
       "    }\n",
       "\n",
       "    .dataframe thead th {\n",
       "        text-align: right;\n",
       "    }\n",
       "</style>\n",
       "<table border=\"1\" class=\"dataframe\">\n",
       "  <thead>\n",
       "    <tr style=\"text-align: right;\">\n",
       "      <th></th>\n",
       "      <th>0</th>\n",
       "      <th>1</th>\n",
       "      <th>2</th>\n",
       "      <th>3</th>\n",
       "      <th>4</th>\n",
       "      <th>5</th>\n",
       "      <th>6</th>\n",
       "      <th>7</th>\n",
       "      <th>8</th>\n",
       "      <th>9</th>\n",
       "      <th>...</th>\n",
       "      <th>457</th>\n",
       "      <th>458</th>\n",
       "      <th>459</th>\n",
       "      <th>460</th>\n",
       "      <th>461</th>\n",
       "      <th>462</th>\n",
       "      <th>463</th>\n",
       "      <th>464</th>\n",
       "      <th>465</th>\n",
       "      <th>466</th>\n",
       "    </tr>\n",
       "  </thead>\n",
       "  <tbody>\n",
       "    <tr>\n",
       "      <th>0</th>\n",
       "      <td>2023-04-05</td>\n",
       "      <td>104.47</td>\n",
       "      <td>211.48</td>\n",
       "      <td>104.95</td>\n",
       "      <td>342.35</td>\n",
       "      <td>99.91</td>\n",
       "      <td>40.11</td>\n",
       "      <td>37.92</td>\n",
       "      <td>19.88</td>\n",
       "      <td>149.12</td>\n",
       "      <td>...</td>\n",
       "      <td>89.27</td>\n",
       "      <td>30.39</td>\n",
       "      <td>114.84</td>\n",
       "      <td>62.12</td>\n",
       "      <td>34.41</td>\n",
       "      <td>54.82</td>\n",
       "      <td>24.1</td>\n",
       "      <td>63.15</td>\n",
       "      <td>28.69</td>\n",
       "      <td>80.63</td>\n",
       "    </tr>\n",
       "    <tr>\n",
       "      <th>1</th>\n",
       "      <td>2023-04-06</td>\n",
       "      <td>108.42</td>\n",
       "      <td>216.1</td>\n",
       "      <td>108.9</td>\n",
       "      <td>339.33</td>\n",
       "      <td>99.97</td>\n",
       "      <td>40.1325</td>\n",
       "      <td>37.69</td>\n",
       "      <td>19.9275</td>\n",
       "      <td>149.61</td>\n",
       "      <td>...</td>\n",
       "      <td>90.07</td>\n",
       "      <td>30.77</td>\n",
       "      <td>115.42</td>\n",
       "      <td>62.31</td>\n",
       "      <td>34.82</td>\n",
       "      <td>55.05</td>\n",
       "      <td>24.4</td>\n",
       "      <td>63.29</td>\n",
       "      <td>28.82</td>\n",
       "      <td>80.29</td>\n",
       "    </tr>\n",
       "    <tr>\n",
       "      <th>2</th>\n",
       "      <td>2023-04-07</td>\n",
       "      <td>108.42</td>\n",
       "      <td>216.1</td>\n",
       "      <td>108.9</td>\n",
       "      <td>339.33</td>\n",
       "      <td>99.97</td>\n",
       "      <td>40.1325</td>\n",
       "      <td>37.69</td>\n",
       "      <td>19.9275</td>\n",
       "      <td>149.61</td>\n",
       "      <td>...</td>\n",
       "      <td>90.07</td>\n",
       "      <td>30.77</td>\n",
       "      <td>115.42</td>\n",
       "      <td>62.31</td>\n",
       "      <td>34.82</td>\n",
       "      <td>55.05</td>\n",
       "      <td>24.4</td>\n",
       "      <td>63.29</td>\n",
       "      <td>28.82</td>\n",
       "      <td>80.29</td>\n",
       "    </tr>\n",
       "    <tr>\n",
       "      <th>3</th>\n",
       "      <td>2023-04-10</td>\n",
       "      <td>106.44</td>\n",
       "      <td>214.75</td>\n",
       "      <td>106.95</td>\n",
       "      <td>338.99</td>\n",
       "      <td>100.81</td>\n",
       "      <td>40.0004</td>\n",
       "      <td>38.23</td>\n",
       "      <td>19.8464</td>\n",
       "      <td>149.99</td>\n",
       "      <td>...</td>\n",
       "      <td>90.01</td>\n",
       "      <td>30.68</td>\n",
       "      <td>116.07</td>\n",
       "      <td>61.95</td>\n",
       "      <td>35.18</td>\n",
       "      <td>54.92</td>\n",
       "      <td>24.9</td>\n",
       "      <td>62.84</td>\n",
       "      <td>28.69</td>\n",
       "      <td>80.42</td>\n",
       "    </tr>\n",
       "    <tr>\n",
       "      <th>4</th>\n",
       "      <td>2023-04-11</td>\n",
       "      <td>105.35</td>\n",
       "      <td>213.85</td>\n",
       "      <td>106.12</td>\n",
       "      <td>338.21</td>\n",
       "      <td>100.42</td>\n",
       "      <td>40.102</td>\n",
       "      <td>38.38</td>\n",
       "      <td>19.9681</td>\n",
       "      <td>149.95</td>\n",
       "      <td>...</td>\n",
       "      <td>90.17</td>\n",
       "      <td>30.63</td>\n",
       "      <td>116.37</td>\n",
       "      <td>61.73</td>\n",
       "      <td>35.68</td>\n",
       "      <td>55.06</td>\n",
       "      <td>25.35</td>\n",
       "      <td>62.57</td>\n",
       "      <td>28.64</td>\n",
       "      <td>80.05</td>\n",
       "    </tr>\n",
       "    <tr>\n",
       "      <th>...</th>\n",
       "      <td>...</td>\n",
       "      <td>...</td>\n",
       "      <td>...</td>\n",
       "      <td>...</td>\n",
       "      <td>...</td>\n",
       "      <td>...</td>\n",
       "      <td>...</td>\n",
       "      <td>...</td>\n",
       "      <td>...</td>\n",
       "      <td>...</td>\n",
       "      <td>...</td>\n",
       "      <td>...</td>\n",
       "      <td>...</td>\n",
       "      <td>...</td>\n",
       "      <td>...</td>\n",
       "      <td>...</td>\n",
       "      <td>...</td>\n",
       "      <td>...</td>\n",
       "      <td>...</td>\n",
       "      <td>...</td>\n",
       "      <td>...</td>\n",
       "    </tr>\n",
       "    <tr>\n",
       "      <th>263</th>\n",
       "      <td>2024-04-08</td>\n",
       "      <td>154.85</td>\n",
       "      <td>519.805</td>\n",
       "      <td>156.14</td>\n",
       "      <td>628.41</td>\n",
       "      <td>117.7293</td>\n",
       "      <td>44.8733</td>\n",
       "      <td>41.8483</td>\n",
       "      <td>18.4436</td>\n",
       "      <td>162.2384</td>\n",
       "      <td>...</td>\n",
       "      <td>75.7888</td>\n",
       "      <td>29.0179</td>\n",
       "      <td>119.5031</td>\n",
       "      <td>61.1414</td>\n",
       "      <td>76.6225</td>\n",
       "      <td>51.2423</td>\n",
       "      <td>18.9706</td>\n",
       "      <td>55.2751</td>\n",
       "      <td>28.51</td>\n",
       "      <td>77.5548</td>\n",
       "    </tr>\n",
       "    <tr>\n",
       "      <th>264</th>\n",
       "      <td>2024-04-09</td>\n",
       "      <td>156.6</td>\n",
       "      <td>517.452</td>\n",
       "      <td>158.14</td>\n",
       "      <td>618.2</td>\n",
       "      <td>118.3513</td>\n",
       "      <td>44.6313</td>\n",
       "      <td>41.2727</td>\n",
       "      <td>18.3661</td>\n",
       "      <td>162.3392</td>\n",
       "      <td>...</td>\n",
       "      <td>76.4605</td>\n",
       "      <td>29.0796</td>\n",
       "      <td>119.8215</td>\n",
       "      <td>61.2966</td>\n",
       "      <td>75.5429</td>\n",
       "      <td>51.8019</td>\n",
       "      <td>18.9602</td>\n",
       "      <td>55.474</td>\n",
       "      <td>28.7073</td>\n",
       "      <td>78.1201</td>\n",
       "    </tr>\n",
       "    <tr>\n",
       "      <th>265</th>\n",
       "      <td>2024-04-10</td>\n",
       "      <td>156.14</td>\n",
       "      <td>520.385</td>\n",
       "      <td>157.66</td>\n",
       "      <td>618.58</td>\n",
       "      <td>117.5688</td>\n",
       "      <td>44.2816</td>\n",
       "      <td>40.8307</td>\n",
       "      <td>18.1813</td>\n",
       "      <td>161.714</td>\n",
       "      <td>...</td>\n",
       "      <td>74.6934</td>\n",
       "      <td>28.1438</td>\n",
       "      <td>118.219</td>\n",
       "      <td>60.1584</td>\n",
       "      <td>75.9685</td>\n",
       "      <td>50.4444</td>\n",
       "      <td>18.3279</td>\n",
       "      <td>54.1231</td>\n",
       "      <td>28.3542</td>\n",
       "      <td>75.5866</td>\n",
       "    </tr>\n",
       "    <tr>\n",
       "      <th>266</th>\n",
       "      <td>2024-04-11</td>\n",
       "      <td>159.41</td>\n",
       "      <td>523.719</td>\n",
       "      <td>160.79</td>\n",
       "      <td>628.78</td>\n",
       "      <td>117.5286</td>\n",
       "      <td>43.8882</td>\n",
       "      <td>41.2624</td>\n",
       "      <td>17.8444</td>\n",
       "      <td>162.0266</td>\n",
       "      <td>...</td>\n",
       "      <td>74.4557</td>\n",
       "      <td>28.3598</td>\n",
       "      <td>117.4999</td>\n",
       "      <td>59.8894</td>\n",
       "      <td>77.4322</td>\n",
       "      <td>50.2371</td>\n",
       "      <td>18.473</td>\n",
       "      <td>53.8927</td>\n",
       "      <td>28.3023</td>\n",
       "      <td>75.5971</td>\n",
       "    </tr>\n",
       "    <tr>\n",
       "      <th>267</th>\n",
       "      <td>2024-04-12</td>\n",
       "      <td>160.014</td>\n",
       "      <td>516.551</td>\n",
       "      <td>161.5</td>\n",
       "      <td>629.51</td>\n",
       "      <td>116.0238</td>\n",
       "      <td>43.8008</td>\n",
       "      <td>40.8923</td>\n",
       "      <td>17.8064</td>\n",
       "      <td>161.6435</td>\n",
       "      <td>...</td>\n",
       "      <td>74.4247</td>\n",
       "      <td>28.4266</td>\n",
       "      <td>117.428</td>\n",
       "      <td>60.117</td>\n",
       "      <td>78.5118</td>\n",
       "      <td>50.206</td>\n",
       "      <td>18.2709</td>\n",
       "      <td>53.9974</td>\n",
       "      <td>28.3594</td>\n",
       "      <td>75.9844</td>\n",
       "    </tr>\n",
       "  </tbody>\n",
       "</table>\n",
       "<p>268 rows × 467 columns</p>\n",
       "</div>"
      ],
      "text/plain": [
       "           0        1        2       3       4         5        6        7    \\\n",
       "0   2023-04-05   104.47   211.48  104.95  342.35     99.91    40.11    37.92   \n",
       "1   2023-04-06   108.42    216.1   108.9  339.33     99.97  40.1325    37.69   \n",
       "2   2023-04-07   108.42    216.1   108.9  339.33     99.97  40.1325    37.69   \n",
       "3   2023-04-10   106.44   214.75  106.95  338.99    100.81  40.0004    38.23   \n",
       "4   2023-04-11   105.35   213.85  106.12  338.21    100.42   40.102    38.38   \n",
       "..         ...      ...      ...     ...     ...       ...      ...      ...   \n",
       "263 2024-04-08   154.85  519.805  156.14  628.41  117.7293  44.8733  41.8483   \n",
       "264 2024-04-09    156.6  517.452  158.14   618.2  118.3513  44.6313  41.2727   \n",
       "265 2024-04-10   156.14  520.385  157.66  618.58  117.5688  44.2816  40.8307   \n",
       "266 2024-04-11   159.41  523.719  160.79  628.78  117.5286  43.8882  41.2624   \n",
       "267 2024-04-12  160.014  516.551   161.5  629.51  116.0238  43.8008  40.8923   \n",
       "\n",
       "         8         9    ...      457      458       459      460      461  \\\n",
       "0      19.88    149.12  ...    89.27    30.39    114.84    62.12    34.41   \n",
       "1    19.9275    149.61  ...    90.07    30.77    115.42    62.31    34.82   \n",
       "2    19.9275    149.61  ...    90.07    30.77    115.42    62.31    34.82   \n",
       "3    19.8464    149.99  ...    90.01    30.68    116.07    61.95    35.18   \n",
       "4    19.9681    149.95  ...    90.17    30.63    116.37    61.73    35.68   \n",
       "..       ...       ...  ...      ...      ...       ...      ...      ...   \n",
       "263  18.4436  162.2384  ...  75.7888  29.0179  119.5031  61.1414  76.6225   \n",
       "264  18.3661  162.3392  ...  76.4605  29.0796  119.8215  61.2966  75.5429   \n",
       "265  18.1813   161.714  ...  74.6934  28.1438   118.219  60.1584  75.9685   \n",
       "266  17.8444  162.0266  ...  74.4557  28.3598  117.4999  59.8894  77.4322   \n",
       "267  17.8064  161.6435  ...  74.4247  28.4266   117.428   60.117  78.5118   \n",
       "\n",
       "         462      463      464      465      466  \n",
       "0      54.82     24.1    63.15    28.69    80.63  \n",
       "1      55.05     24.4    63.29    28.82    80.29  \n",
       "2      55.05     24.4    63.29    28.82    80.29  \n",
       "3      54.92     24.9    62.84    28.69    80.42  \n",
       "4      55.06    25.35    62.57    28.64    80.05  \n",
       "..       ...      ...      ...      ...      ...  \n",
       "263  51.2423  18.9706  55.2751    28.51  77.5548  \n",
       "264  51.8019  18.9602   55.474  28.7073  78.1201  \n",
       "265  50.4444  18.3279  54.1231  28.3542  75.5866  \n",
       "266  50.2371   18.473  53.8927  28.3023  75.5971  \n",
       "267   50.206  18.2709  53.9974  28.3594  75.9844  \n",
       "\n",
       "[268 rows x 467 columns]"
      ]
     },
     "execution_count": 23,
     "metadata": {},
     "output_type": "execute_result"
    }
   ],
   "source": [
    "df"
   ]
  },
  {
   "cell_type": "markdown",
   "metadata": {
    "tags": []
   },
   "source": [
    "Missing data"
   ]
  },
  {
   "cell_type": "code",
   "execution_count": 26,
   "metadata": {
    "tags": []
   },
   "outputs": [
    {
     "ename": "TypeError",
     "evalue": "ufunc 'isnan' not supported for the input types, and the inputs could not be safely coerced to any supported types according to the casting rule ''safe''",
     "output_type": "error",
     "traceback": [
      "\u001b[1;31m---------------------------------------------------------------------------\u001b[0m",
      "\u001b[1;31mTypeError\u001b[0m                                 Traceback (most recent call last)",
      "Cell \u001b[1;32mIn[26], line 1\u001b[0m\n\u001b[1;32m----> 1\u001b[0m select\u001b[38;5;241m=\u001b[39m(\u001b[38;5;241m1\u001b[39m\u001b[38;5;241m-\u001b[39mnp\u001b[38;5;241m.\u001b[39msum(np\u001b[38;5;241m.\u001b[39misnan(ALL_STOCKS),axis\u001b[38;5;241m=\u001b[39m\u001b[38;5;241m0\u001b[39m)\u001b[38;5;241m==\u001b[39m\u001b[38;5;241m1\u001b[39m)\n\u001b[0;32m      2\u001b[0m STOCKS_SELECT\u001b[38;5;241m=\u001b[39mALL_STOCKS[:,select]\n\u001b[0;32m      3\u001b[0m select_id\u001b[38;5;241m=\u001b[39mnp\u001b[38;5;241m.\u001b[39marange(\u001b[38;5;241m0\u001b[39m,ALL_STOCKS\u001b[38;5;241m.\u001b[39mshape[\u001b[38;5;241m1\u001b[39m],\u001b[38;5;241m1\u001b[39m)[select]\n",
      "\u001b[1;31mTypeError\u001b[0m: ufunc 'isnan' not supported for the input types, and the inputs could not be safely coerced to any supported types according to the casting rule ''safe''"
     ]
    }
   ],
   "source": [
    "select=(1-np.sum(np.isnan(ALL_STOCKS),axis=0)==1)\n",
    "STOCKS_SELECT=ALL_STOCKS[:,select]\n",
    "select_id=np.arange(0,ALL_STOCKS.shape[1],1)[select]\n",
    "NAMES_SELECT=[NAMES[i] for i in select_id]\n",
    "SECTOR_ID_SELECT=SECTOR_ID[select]\n",
    "n_stocks=STOCKS_SELECT.shape[1]"
   ]
  },
  {
   "cell_type": "markdown",
   "metadata": {
    "tags": []
   },
   "source": [
    "Return computation"
   ]
  },
  {
   "cell_type": "code",
   "execution_count": 4,
   "metadata": {
    "tags": []
   },
   "outputs": [],
   "source": [
    "RETURNS=STOCKS_SELECT[1:,:]/STOCKS_SELECT[:-1,:]-1\n",
    "RETURNS_NORM=preprocessing.scale(RETURNS)\n",
    "RETURNS_SP500=SP500[1:,:]/SP500[:-1,:]-1\n",
    "n_obs=len(RETURNS)"
   ]
  },
  {
   "cell_type": "code",
   "execution_count": 5,
   "metadata": {},
   "outputs": [],
   "source": [
    "n_stocks=STOCKS_SELECT.shape[1]\n",
    "n_obs=len(STOCKS_SELECT)\n",
    "n_pairs=int(n_stocks*(n_stocks-1)/2)"
   ]
  },
  {
   "cell_type": "code",
   "execution_count": 6,
   "metadata": {},
   "outputs": [],
   "source": [
    "SPREADS=np.zeros((n_obs,n_pairs))\n",
    "PAIR_RETURNS=np.zeros((n_obs-1,n_pairs))\n",
    "SPREADS_N=np.zeros((n_obs,n_pairs))"
   ]
  },
  {
   "cell_type": "markdown",
   "metadata": {},
   "source": [
    "# 1. Pair selection"
   ]
  },
  {
   "cell_type": "code",
   "execution_count": 7,
   "metadata": {},
   "outputs": [
    {
     "name": "stdout",
     "output_type": "stream",
     "text": [
      "44.0\n"
     ]
    }
   ],
   "source": [
    "SELECTED_PAIRS=np.zeros((n_pairs))\n",
    "SELECTED_STOCKS=np.zeros((n_stocks))\n",
    "count=0\n",
    "for i in range(n_stocks):\n",
    "        for j in np.arange(i+1,n_stocks,1):\n",
    "            if ((SECTOR_ID_SELECT[i]==SECTOR_ID_SELECT[j])*(SELECTED_STOCKS[i]==0)*(SELECTED_STOCKS[j]==0))==1:\n",
    "                mu1=np.mean(STOCKS_SELECT[:,i])\n",
    "                mu2=np.mean(STOCKS_SELECT[:,j])\n",
    "                hedge=mu1/mu2\n",
    "                SPREADS[:,count]=np.log(STOCKS_SELECT[:,i])-np.log(hedge*STOCKS_SELECT[:,j])\n",
    "                PAIR_RETURNS[:,count]=RETURNS[:,i]-RETURNS[:,j]\n",
    "                SPREADS_N[:,count]=preprocessing.scale(SPREADS[:,count])\n",
    "                if abs(SPREADS_N[-1,count])>1.5:\n",
    "                    ### STATIONARITY TEST\n",
    "                    pval=adfuller(SPREADS_N[:,count], regression='c')[1]\n",
    "                    if pval<0.05:\n",
    "                        SELECTED_PAIRS[count]=1\n",
    "                        SELECTED_STOCKS[i]=1\n",
    "                        SELECTED_STOCKS[j]=1\n",
    "            count=count+1\n",
    "print(sum(SELECTED_PAIRS))"
   ]
  },
  {
   "cell_type": "markdown",
   "metadata": {},
   "source": [
    "# 2. Clustering"
   ]
  },
  {
   "cell_type": "markdown",
   "metadata": {},
   "source": [
    "## 2.1. Principal component analysis"
   ]
  },
  {
   "cell_type": "markdown",
   "metadata": {},
   "source": [
    "### 2.1.1. From stock returns"
   ]
  },
  {
   "cell_type": "code",
   "execution_count": 8,
   "metadata": {},
   "outputs": [
    {
     "name": "stdout",
     "output_type": "stream",
     "text": [
      "5 factors retreiving 39 percent of the global variance\n"
     ]
    },
    {
     "data": {
      "image/png": "[encoded data removed]",
      "text/plain": [
       "<Figure size 432x288 with 2 Axes>"
      ]
     },
     "metadata": {
      "needs_background": "light"
     },
     "output_type": "display_data"
    }
   ],
   "source": [
    "out_pca=PCA(RETURNS_NORM)\n",
    "\n",
    "share_variance=out_pca.eigenvals[:20]/sum(out_pca.eigenvals)\n",
    "share_variance_cumulated=np.cumsum(share_variance)\n",
    "\n",
    "N_FACTORS=min((out_pca.ic[:20,:]).argmin(axis=0))+1\n",
    "print('%i factors retreiving ' %(N_FACTORS)+ '%i percent of the global variance' %(share_variance_cumulated[N_FACTORS-1]*100))\n",
    "\n",
    "fig, ax1 = plt.subplots()\n",
    "color = 'tab:blue'\n",
    "ax1.set_xlabel('component')\n",
    "ax1.set_ylabel('share of variance explained', color=color)\n",
    "ax1.bar(np.arange(1,21,1), share_variance, color=color)\n",
    "ax1.tick_params(axis='y', labelcolor=color)\n",
    "ax2 = ax1.twinx()\n",
    "color = 'tab:red'\n",
    "ax2.set_ylabel('cumulated share of variance explained', color=color)\n",
    "ax2.plot(np.arange(1,21,1), share_variance_cumulated, color=color)\n",
    "ax2.tick_params(axis='y', labelcolor=color)\n",
    "fig.tight_layout()\n",
    "plt.rcParams['figure.figsize'] = [20, 5]\n",
    "plt.show()"
   ]
  },
  {
   "cell_type": "markdown",
   "metadata": {},
   "source": [
    "### 2.1.2. From pair returns"
   ]
  },
  {
   "cell_type": "code",
   "execution_count": 28,
   "metadata": {},
   "outputs": [
    {
     "name": "stdout",
     "output_type": "stream",
     "text": [
      "44 factors retreiving 99 percent of the global variance\n"
     ]
    },
    {
     "data": {
      "image/png": "[encoded data removed]",
      "text/plain": [
       "<Figure size 1440x360 with 2 Axes>"
      ]
     },
     "metadata": {
      "needs_background": "light"
     },
     "output_type": "display_data"
    }
   ],
   "source": [
    "PAIR_RETURNS_N=preprocessing.scale(PAIR_RETURNS[:,SELECTED_PAIRS==1])\n",
    "out_pca=PCA(PAIR_RETURNS_N)\n",
    "\n",
    "share_variance=out_pca.eigenvals[:]/sum(out_pca.eigenvals)\n",
    "share_variance_cumulated=np.cumsum(share_variance)\n",
    "\n",
    "N_FACTORS=min((out_pca.ic[:,:]).argmin(axis=0))+1\n",
    "print('%i factors retreiving ' %(N_FACTORS)+ '%i percent of the global variance' %(share_variance_cumulated[-1]*100))\n",
    "\n",
    "\n",
    "fig, ax1 = plt.subplots()\n",
    "color = 'tab:blue'\n",
    "ax1.set_xlabel('component')\n",
    "ax1.set_ylabel('share of variance explained', color=color)\n",
    "ax1.bar(np.arange(1,N_FACTORS+1,1), share_variance, color=color)\n",
    "ax1.tick_params(axis='y', labelcolor=color)\n",
    "ax2 = ax1.twinx()\n",
    "color = 'tab:red'\n",
    "ax2.set_ylabel('cumulated share of variance explained', color=color)\n",
    "ax2.plot(np.arange(1,N_FACTORS+1,1), share_variance_cumulated, color=color)\n",
    "ax2.tick_params(axis='y', labelcolor=color)\n",
    "fig.tight_layout()\n",
    "plt.rcParams['figure.figsize'] = [20, 5]\n",
    "plt.show()"
   ]
  },
  {
   "cell_type": "markdown",
   "metadata": {},
   "source": [
    "## 2.2. Clustering from normalized spread returns"
   ]
  },
  {
   "cell_type": "markdown",
   "metadata": {},
   "source": [
    "### 2.2.1. Computing Euclidean distance from pair returns"
   ]
  },
  {
   "cell_type": "code",
   "execution_count": 30,
   "metadata": {},
   "outputs": [],
   "source": [
    "DIST_1=pdist(PAIR_RETURNS_N.T,'euclidean')\n",
    "clustering_1 = linkage(DIST_1,method='ward')\n",
    "N_CLUSTER=0"
   ]
  },
  {
   "cell_type": "code",
   "execution_count": 31,
   "metadata": {},
   "outputs": [
    {
     "data": {
      "text/plain": [
       "[]"
      ]
     },
     "execution_count": 31,
     "metadata": {},
     "output_type": "execute_result"
    },
    {
     "data": {
      "image/png": "[encoded data removed]",
      "text/plain": [
       "<Figure size 1440x720 with 1 Axes>"
      ]
     },
     "metadata": {
      "needs_background": "light"
     },
     "output_type": "display_data"
    }
   ],
   "source": [
    "cmax=30\n",
    "GAP_OUT=np.zeros((cmax-1,2))\n",
    "for i in np.arange(2,cmax+1,1):\n",
    "    clusters=fcluster(clustering_1,i,criterion='maxclust')\n",
    "    out=gap_stat('euclidean', 'ward', PAIR_RETURNS_N, DIST_1, clusters, 20)\n",
    "    GAP_OUT[i-2,:]=[out[0],out[1]]\n",
    "std_GAP=np.mean(out[1])\n",
    "for i in np.arange(2,cmax,1):\n",
    "    if GAP_OUT[i-2,0]>(GAP_OUT[i-1,0]-GAP_OUT[i-1,1]):\n",
    "        N_CLUSTER=i\n",
    "        break\n",
    "\n",
    "plt.figure(figsize=(20, 10))\n",
    "plt.errorbar(np.arange(2,cmax+1,1), GAP_OUT[:,0], GAP_OUT[i-1,1], capsize=2, fmt='.')\n",
    "plt.title(\"Gap statistic +/- 1 standard deviation - %i clusters\" %N_CLUSTER)\n",
    "plt.xticks(np.arange(2,cmax+1,1))\n",
    "plt.plot()"
   ]
  },
  {
   "cell_type": "code",
   "execution_count": 32,
   "metadata": {},
   "outputs": [
    {
     "data": {
      "image/png": "[encoded data removed]",
      "text/plain": [
       "<Figure size 720x720 with 1 Axes>"
      ]
     },
     "metadata": {
      "needs_background": "light"
     },
     "output_type": "display_data"
    }
   ],
   "source": [
    "plt.figure(figsize=(10, 10))\n",
    "csfont = {'fontname':'Calibri', 'fontsize' : '10'}\n",
    "csfont2 = {'fontname':'Calibri', 'fontsize' : '8'}\n",
    "csfont3 = {'fontname':'Calibri', 'fontsize' : '6'}\n",
    "plt.xlabel('Distance',**csfont2)\n",
    "plt.xticks(**csfont3)\n",
    "plt.yticks(**csfont3)\n",
    "dendrogram(clustering_1,truncate_mode='level',orientation='right',leaf_font_size=5)\n",
    "plt.savefig('books_read.jpeg',bbox_inches='tight', dpi=300)\n",
    "plt.show()"
   ]
  },
  {
   "cell_type": "markdown",
   "metadata": {},
   "source": [
    "# 3. Equal CVaR allocation"
   ]
  },
  {
   "cell_type": "markdown",
   "metadata": {},
   "source": [
    "## 3.1. CVaR computation"
   ]
  },
  {
   "cell_type": "code",
   "execution_count": 45,
   "metadata": {},
   "outputs": [],
   "source": [
    "CVaR=np.zeros((int(sum(SELECTED_PAIRS))))\n",
    "SEL_PAIR_RETURNS=PAIR_RETURNS[:,SELECTED_PAIRS==1]\n",
    "\n",
    "for i in range(len(CVaR)):\n",
    "    Q05=np.quantile(SEL_PAIR_RETURNS[:,i],0.05)\n",
    "    CVaR[i]=abs(np.mean(SEL_PAIR_RETURNS[SEL_PAIR_RETURNS[:,i]<Q05,i]))"
   ]
  },
  {
   "cell_type": "markdown",
   "metadata": {},
   "source": [
    "## 3.2. Portfolio weights"
   ]
  },
  {
   "cell_type": "code",
   "execution_count": 46,
   "metadata": {},
   "outputs": [],
   "source": [
    "WEIGHTS=(1/CVaR)/np.sum(1/CVaR)"
   ]
  }
 ],
 "metadata": {
  "kernelspec": {
   "display_name": "Python 3 (ipykernel)",
   "language": "python",
   "name": "python3"
  },
  "language_info": {
   "codemirror_mode": {
    "name": "ipython",
    "version": 3
   },
   "file_extension": ".py",
   "mimetype": "text/x-python",
   "name": "python",
   "nbconvert_exporter": "python",
   "pygments_lexer": "ipython3",
   "version": "3.11.5"
  }
 },
 "nbformat": 4,
 "nbformat_minor": 4
}
